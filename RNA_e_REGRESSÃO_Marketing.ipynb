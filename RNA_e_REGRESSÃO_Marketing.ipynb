{
  "nbformat": 4,
  "nbformat_minor": 0,
  "metadata": {
    "colab": {
      "provenance": [],
      "authorship_tag": "ABX9TyPt8xG7hPxpmx5IJP9PJehY",
      "include_colab_link": true
    },
    "kernelspec": {
      "name": "python3",
      "display_name": "Python 3"
    },
    "language_info": {
      "name": "python"
    }
  },
  "cells": [
    {
      "cell_type": "markdown",
      "metadata": {
        "id": "view-in-github",
        "colab_type": "text"
      },
      "source": [
        "<a href=\"https://colab.research.google.com/github/Alissongrs/RegressaoLinear/blob/main/RNA_e_REGRESS%C3%83O_Marketing.ipynb\" target=\"_parent\"><img src=\"https://colab.research.google.com/assets/colab-badge.svg\" alt=\"Open In Colab\"/></a>"
      ]
    },
    {
      "cell_type": "code",
      "execution_count": 1,
      "metadata": {
        "id": "oiJ2YL9l7n_p"
      },
      "outputs": [],
      "source": [
        "import warnings\n",
        "warnings.filterwarnings(\"ignore\")\n",
        "\n",
        "# Bibliotecas para uso e visualização de dados\n",
        "import numpy as pd\n",
        "import pandas as pd\n",
        "import seaborn as sns\n",
        "import matplotlib.pyplot as plt\n",
        "\n",
        "# Imports para seleção de modelos\n",
        "from sklearn.model_selection import train_test_split\n",
        "from sklearn.model_selection import GridSearchCV\n",
        "\n",
        "# Imports para preparação de dados\n",
        "from sklearn.preprocessing import LabelEncoder\n",
        "from sklearn.preprocessing import StandardScaler\n",
        "from sklearn.preprocessing import MinMaxScaler\n",
        "\n",
        "# Imports para auxiliar a visualização de dados descritos em várias variáveis\n",
        "from sklearn.decomposition import PCA\n",
        "\n",
        "# Import de modelos preditivos\n",
        "from sklearn.linear_model import LinearRegression\n",
        "from sklearn.linear_model import LogisticRegression\n",
        "from sklearn.neural_network import MLPRegressor\n",
        "from sklearn.neural_network import MLPClassifier\n",
        "\n",
        "# Import de métricas\n",
        "from sklearn.metrics import mean_squared_error, mean_absolute_error, r2_score\n",
        "from sklearn.metrics import accuracy_score"
      ]
    },
    {
      "cell_type": "code",
      "source": [
        "df = pd.read_csv('/content/advertising.csv')\n",
        "df.sample(5)"
      ],
      "metadata": {
        "colab": {
          "base_uri": "https://localhost:8080/",
          "height": 206
        },
        "id": "inri3x8X8YDd",
        "outputId": "49b6dbc4-4ba7-477a-caf2-275260eee7f3"
      },
      "execution_count": 2,
      "outputs": [
        {
          "output_type": "execute_result",
          "data": {
            "text/plain": [
              "       TV  Radio  Newspaper  Sales\n",
              "48  227.2   15.8       49.9   19.8\n",
              "77  120.5   28.5       14.2   14.2\n",
              "98  289.7   42.3       51.2   25.4\n",
              "23  228.3   16.9       26.2   20.5\n",
              "30  292.9   28.3       43.2   21.4"
            ],
            "text/html": [
              "\n",
              "  <div id=\"df-39fb3b4d-2fb4-4cc5-b64b-39f4b0cc78be\" class=\"colab-df-container\">\n",
              "    <div>\n",
              "<style scoped>\n",
              "    .dataframe tbody tr th:only-of-type {\n",
              "        vertical-align: middle;\n",
              "    }\n",
              "\n",
              "    .dataframe tbody tr th {\n",
              "        vertical-align: top;\n",
              "    }\n",
              "\n",
              "    .dataframe thead th {\n",
              "        text-align: right;\n",
              "    }\n",
              "</style>\n",
              "<table border=\"1\" class=\"dataframe\">\n",
              "  <thead>\n",
              "    <tr style=\"text-align: right;\">\n",
              "      <th></th>\n",
              "      <th>TV</th>\n",
              "      <th>Radio</th>\n",
              "      <th>Newspaper</th>\n",
              "      <th>Sales</th>\n",
              "    </tr>\n",
              "  </thead>\n",
              "  <tbody>\n",
              "    <tr>\n",
              "      <th>48</th>\n",
              "      <td>227.2</td>\n",
              "      <td>15.8</td>\n",
              "      <td>49.9</td>\n",
              "      <td>19.8</td>\n",
              "    </tr>\n",
              "    <tr>\n",
              "      <th>77</th>\n",
              "      <td>120.5</td>\n",
              "      <td>28.5</td>\n",
              "      <td>14.2</td>\n",
              "      <td>14.2</td>\n",
              "    </tr>\n",
              "    <tr>\n",
              "      <th>98</th>\n",
              "      <td>289.7</td>\n",
              "      <td>42.3</td>\n",
              "      <td>51.2</td>\n",
              "      <td>25.4</td>\n",
              "    </tr>\n",
              "    <tr>\n",
              "      <th>23</th>\n",
              "      <td>228.3</td>\n",
              "      <td>16.9</td>\n",
              "      <td>26.2</td>\n",
              "      <td>20.5</td>\n",
              "    </tr>\n",
              "    <tr>\n",
              "      <th>30</th>\n",
              "      <td>292.9</td>\n",
              "      <td>28.3</td>\n",
              "      <td>43.2</td>\n",
              "      <td>21.4</td>\n",
              "    </tr>\n",
              "  </tbody>\n",
              "</table>\n",
              "</div>\n",
              "    <div class=\"colab-df-buttons\">\n",
              "\n",
              "  <div class=\"colab-df-container\">\n",
              "    <button class=\"colab-df-convert\" onclick=\"convertToInteractive('df-39fb3b4d-2fb4-4cc5-b64b-39f4b0cc78be')\"\n",
              "            title=\"Convert this dataframe to an interactive table.\"\n",
              "            style=\"display:none;\">\n",
              "\n",
              "  <svg xmlns=\"http://www.w3.org/2000/svg\" height=\"24px\" viewBox=\"0 -960 960 960\">\n",
              "    <path d=\"M120-120v-720h720v720H120Zm60-500h600v-160H180v160Zm220 220h160v-160H400v160Zm0 220h160v-160H400v160ZM180-400h160v-160H180v160Zm440 0h160v-160H620v160ZM180-180h160v-160H180v160Zm440 0h160v-160H620v160Z\"/>\n",
              "  </svg>\n",
              "    </button>\n",
              "\n",
              "  <style>\n",
              "    .colab-df-container {\n",
              "      display:flex;\n",
              "      gap: 12px;\n",
              "    }\n",
              "\n",
              "    .colab-df-convert {\n",
              "      background-color: #E8F0FE;\n",
              "      border: none;\n",
              "      border-radius: 50%;\n",
              "      cursor: pointer;\n",
              "      display: none;\n",
              "      fill: #1967D2;\n",
              "      height: 32px;\n",
              "      padding: 0 0 0 0;\n",
              "      width: 32px;\n",
              "    }\n",
              "\n",
              "    .colab-df-convert:hover {\n",
              "      background-color: #E2EBFA;\n",
              "      box-shadow: 0px 1px 2px rgba(60, 64, 67, 0.3), 0px 1px 3px 1px rgba(60, 64, 67, 0.15);\n",
              "      fill: #174EA6;\n",
              "    }\n",
              "\n",
              "    .colab-df-buttons div {\n",
              "      margin-bottom: 4px;\n",
              "    }\n",
              "\n",
              "    [theme=dark] .colab-df-convert {\n",
              "      background-color: #3B4455;\n",
              "      fill: #D2E3FC;\n",
              "    }\n",
              "\n",
              "    [theme=dark] .colab-df-convert:hover {\n",
              "      background-color: #434B5C;\n",
              "      box-shadow: 0px 1px 3px 1px rgba(0, 0, 0, 0.15);\n",
              "      filter: drop-shadow(0px 1px 2px rgba(0, 0, 0, 0.3));\n",
              "      fill: #FFFFFF;\n",
              "    }\n",
              "  </style>\n",
              "\n",
              "    <script>\n",
              "      const buttonEl =\n",
              "        document.querySelector('#df-39fb3b4d-2fb4-4cc5-b64b-39f4b0cc78be button.colab-df-convert');\n",
              "      buttonEl.style.display =\n",
              "        google.colab.kernel.accessAllowed ? 'block' : 'none';\n",
              "\n",
              "      async function convertToInteractive(key) {\n",
              "        const element = document.querySelector('#df-39fb3b4d-2fb4-4cc5-b64b-39f4b0cc78be');\n",
              "        const dataTable =\n",
              "          await google.colab.kernel.invokeFunction('convertToInteractive',\n",
              "                                                    [key], {});\n",
              "        if (!dataTable) return;\n",
              "\n",
              "        const docLinkHtml = 'Like what you see? Visit the ' +\n",
              "          '<a target=\"_blank\" href=https://colab.research.google.com/notebooks/data_table.ipynb>data table notebook</a>'\n",
              "          + ' to learn more about interactive tables.';\n",
              "        element.innerHTML = '';\n",
              "        dataTable['output_type'] = 'display_data';\n",
              "        await google.colab.output.renderOutput(dataTable, element);\n",
              "        const docLink = document.createElement('div');\n",
              "        docLink.innerHTML = docLinkHtml;\n",
              "        element.appendChild(docLink);\n",
              "      }\n",
              "    </script>\n",
              "  </div>\n",
              "\n",
              "\n",
              "<div id=\"df-cdd736b5-d03b-45d6-b36e-46b408de3742\">\n",
              "  <button class=\"colab-df-quickchart\" onclick=\"quickchart('df-cdd736b5-d03b-45d6-b36e-46b408de3742')\"\n",
              "            title=\"Suggest charts\"\n",
              "            style=\"display:none;\">\n",
              "\n",
              "<svg xmlns=\"http://www.w3.org/2000/svg\" height=\"24px\"viewBox=\"0 0 24 24\"\n",
              "     width=\"24px\">\n",
              "    <g>\n",
              "        <path d=\"M19 3H5c-1.1 0-2 .9-2 2v14c0 1.1.9 2 2 2h14c1.1 0 2-.9 2-2V5c0-1.1-.9-2-2-2zM9 17H7v-7h2v7zm4 0h-2V7h2v10zm4 0h-2v-4h2v4z\"/>\n",
              "    </g>\n",
              "</svg>\n",
              "  </button>\n",
              "\n",
              "<style>\n",
              "  .colab-df-quickchart {\n",
              "      --bg-color: #E8F0FE;\n",
              "      --fill-color: #1967D2;\n",
              "      --hover-bg-color: #E2EBFA;\n",
              "      --hover-fill-color: #174EA6;\n",
              "      --disabled-fill-color: #AAA;\n",
              "      --disabled-bg-color: #DDD;\n",
              "  }\n",
              "\n",
              "  [theme=dark] .colab-df-quickchart {\n",
              "      --bg-color: #3B4455;\n",
              "      --fill-color: #D2E3FC;\n",
              "      --hover-bg-color: #434B5C;\n",
              "      --hover-fill-color: #FFFFFF;\n",
              "      --disabled-bg-color: #3B4455;\n",
              "      --disabled-fill-color: #666;\n",
              "  }\n",
              "\n",
              "  .colab-df-quickchart {\n",
              "    background-color: var(--bg-color);\n",
              "    border: none;\n",
              "    border-radius: 50%;\n",
              "    cursor: pointer;\n",
              "    display: none;\n",
              "    fill: var(--fill-color);\n",
              "    height: 32px;\n",
              "    padding: 0;\n",
              "    width: 32px;\n",
              "  }\n",
              "\n",
              "  .colab-df-quickchart:hover {\n",
              "    background-color: var(--hover-bg-color);\n",
              "    box-shadow: 0 1px 2px rgba(60, 64, 67, 0.3), 0 1px 3px 1px rgba(60, 64, 67, 0.15);\n",
              "    fill: var(--button-hover-fill-color);\n",
              "  }\n",
              "\n",
              "  .colab-df-quickchart-complete:disabled,\n",
              "  .colab-df-quickchart-complete:disabled:hover {\n",
              "    background-color: var(--disabled-bg-color);\n",
              "    fill: var(--disabled-fill-color);\n",
              "    box-shadow: none;\n",
              "  }\n",
              "\n",
              "  .colab-df-spinner {\n",
              "    border: 2px solid var(--fill-color);\n",
              "    border-color: transparent;\n",
              "    border-bottom-color: var(--fill-color);\n",
              "    animation:\n",
              "      spin 1s steps(1) infinite;\n",
              "  }\n",
              "\n",
              "  @keyframes spin {\n",
              "    0% {\n",
              "      border-color: transparent;\n",
              "      border-bottom-color: var(--fill-color);\n",
              "      border-left-color: var(--fill-color);\n",
              "    }\n",
              "    20% {\n",
              "      border-color: transparent;\n",
              "      border-left-color: var(--fill-color);\n",
              "      border-top-color: var(--fill-color);\n",
              "    }\n",
              "    30% {\n",
              "      border-color: transparent;\n",
              "      border-left-color: var(--fill-color);\n",
              "      border-top-color: var(--fill-color);\n",
              "      border-right-color: var(--fill-color);\n",
              "    }\n",
              "    40% {\n",
              "      border-color: transparent;\n",
              "      border-right-color: var(--fill-color);\n",
              "      border-top-color: var(--fill-color);\n",
              "    }\n",
              "    60% {\n",
              "      border-color: transparent;\n",
              "      border-right-color: var(--fill-color);\n",
              "    }\n",
              "    80% {\n",
              "      border-color: transparent;\n",
              "      border-right-color: var(--fill-color);\n",
              "      border-bottom-color: var(--fill-color);\n",
              "    }\n",
              "    90% {\n",
              "      border-color: transparent;\n",
              "      border-bottom-color: var(--fill-color);\n",
              "    }\n",
              "  }\n",
              "</style>\n",
              "\n",
              "  <script>\n",
              "    async function quickchart(key) {\n",
              "      const quickchartButtonEl =\n",
              "        document.querySelector('#' + key + ' button');\n",
              "      quickchartButtonEl.disabled = true;  // To prevent multiple clicks.\n",
              "      quickchartButtonEl.classList.add('colab-df-spinner');\n",
              "      try {\n",
              "        const charts = await google.colab.kernel.invokeFunction(\n",
              "            'suggestCharts', [key], {});\n",
              "      } catch (error) {\n",
              "        console.error('Error during call to suggestCharts:', error);\n",
              "      }\n",
              "      quickchartButtonEl.classList.remove('colab-df-spinner');\n",
              "      quickchartButtonEl.classList.add('colab-df-quickchart-complete');\n",
              "    }\n",
              "    (() => {\n",
              "      let quickchartButtonEl =\n",
              "        document.querySelector('#df-cdd736b5-d03b-45d6-b36e-46b408de3742 button');\n",
              "      quickchartButtonEl.style.display =\n",
              "        google.colab.kernel.accessAllowed ? 'block' : 'none';\n",
              "    })();\n",
              "  </script>\n",
              "</div>\n",
              "\n",
              "    </div>\n",
              "  </div>\n"
            ],
            "application/vnd.google.colaboratory.intrinsic+json": {
              "type": "dataframe",
              "summary": "{\n  \"name\": \"df\",\n  \"rows\": 5,\n  \"fields\": [\n    {\n      \"column\": \"TV\",\n      \"properties\": {\n        \"dtype\": \"number\",\n        \"std\": 69.83317263306887,\n        \"min\": 120.5,\n        \"max\": 292.9,\n        \"num_unique_values\": 5,\n        \"samples\": [\n          120.5,\n          292.9,\n          289.7\n        ],\n        \"semantic_type\": \"\",\n        \"description\": \"\"\n      }\n    },\n    {\n      \"column\": \"Radio\",\n      \"properties\": {\n        \"dtype\": \"number\",\n        \"std\": 10.76373541109219,\n        \"min\": 15.8,\n        \"max\": 42.3,\n        \"num_unique_values\": 5,\n        \"samples\": [\n          28.5,\n          28.3,\n          42.3\n        ],\n        \"semantic_type\": \"\",\n        \"description\": \"\"\n      }\n    },\n    {\n      \"column\": \"Newspaper\",\n      \"properties\": {\n        \"dtype\": \"number\",\n        \"std\": 16.147383689006713,\n        \"min\": 14.2,\n        \"max\": 51.2,\n        \"num_unique_values\": 5,\n        \"samples\": [\n          14.2,\n          43.2,\n          51.2\n        ],\n        \"semantic_type\": \"\",\n        \"description\": \"\"\n      }\n    },\n    {\n      \"column\": \"Sales\",\n      \"properties\": {\n        \"dtype\": \"number\",\n        \"std\": 4.022188459035703,\n        \"min\": 14.2,\n        \"max\": 25.4,\n        \"num_unique_values\": 5,\n        \"samples\": [\n          14.2,\n          21.4,\n          25.4\n        ],\n        \"semantic_type\": \"\",\n        \"description\": \"\"\n      }\n    }\n  ]\n}"
            }
          },
          "metadata": {},
          "execution_count": 2
        }
      ]
    },
    {
      "cell_type": "code",
      "source": [
        "# Tipo de dados\n",
        "df.info()"
      ],
      "metadata": {
        "colab": {
          "base_uri": "https://localhost:8080/"
        },
        "id": "vvf0fKnf8YBe",
        "outputId": "3b813e54-b33c-4237-e66b-2e60edec455a"
      },
      "execution_count": 3,
      "outputs": [
        {
          "output_type": "stream",
          "name": "stdout",
          "text": [
            "<class 'pandas.core.frame.DataFrame'>\n",
            "RangeIndex: 200 entries, 0 to 199\n",
            "Data columns (total 4 columns):\n",
            " #   Column     Non-Null Count  Dtype  \n",
            "---  ------     --------------  -----  \n",
            " 0   TV         200 non-null    float64\n",
            " 1   Radio      200 non-null    float64\n",
            " 2   Newspaper  200 non-null    float64\n",
            " 3   Sales      200 non-null    float64\n",
            "dtypes: float64(4)\n",
            "memory usage: 6.4 KB\n"
          ]
        }
      ]
    },
    {
      "cell_type": "code",
      "source": [
        "# Removendo duplicadas\n",
        "df.drop_duplicates(inplace=True)"
      ],
      "metadata": {
        "id": "IYAzODPz8X_N"
      },
      "execution_count": 4,
      "outputs": []
    },
    {
      "cell_type": "code",
      "source": [
        "# Separação de DADOS e LABEL\n",
        "X = df.drop(columns=['Sales'])\n",
        "y = df['Sales']\n",
        "\n",
        "# Dividindo dados TREINO e TESTE\n",
        "X_train, X_test, y_train, y_test = train_test_split(\n",
        "    X,\n",
        "    y,\n",
        "    test_size = 0.3,\n",
        "    random_state = 42\n",
        ")\n",
        "\n",
        "# Padronização dos dados\n",
        "ss = StandardScaler()\n",
        "X_train_scaled = ss.fit_transform(X_train)\n",
        "X_test_scaled = ss.transform(X_test)"
      ],
      "metadata": {
        "id": "ijKuihik8X8v"
      },
      "execution_count": 5,
      "outputs": []
    },
    {
      "cell_type": "code",
      "source": [
        "def metricas(X_tr_scaled, y_tr, y_ts, y_pr, model, id_modelo):\n",
        "\n",
        " y_pr_tr = model.predict(X_tr_scaled)\n",
        "\n",
        " # Erro quadrático médio\n",
        " print(f\"MSE do TREINO ({id_modelo}): \", mean_squared_error(y_tr, y_pr_tr))\n",
        " print(f\"MSE do TESTE ({id_modelo}): \", mean_squared_error(y_ts, y_pr))\n",
        "\n",
        " # Erro absoluto médio\n",
        " print(f\"MAE do TREINO ({id_modelo}): \", mean_absolute_error(y_tr, y_pr_tr))\n",
        " print(f\"MAE do TESTE ({id_modelo}): \", mean_absolute_error(y_ts, y_pr))\n",
        "\n",
        " # R²\n",
        " print(f\"R² do TREINO ({id_modelo}): \", r2_score(y_tr, y_pr_tr))\n",
        " print(f\"R² do TESTE ({id_modelo}): \", r2_score(y_ts, y_pr))"
      ],
      "metadata": {
        "id": "bhNZPNyl8X4N"
      },
      "execution_count": 6,
      "outputs": []
    },
    {
      "cell_type": "code",
      "source": [
        "# Treinando o modelo\n",
        "modelo = LinearRegression()\n",
        "modelo.fit(X_train_scaled, y_train)\n",
        "\n",
        "# Fazendo as predições\n",
        "y_pred = modelo.predict(X_test_scaled)\n",
        "\n",
        "# Metricas para regressao linear\n",
        "metricas(X_train_scaled, y_train, y_test, y_pred, modelo, \"Reg Linear\")"
      ],
      "metadata": {
        "colab": {
          "base_uri": "https://localhost:8080/"
        },
        "id": "a6igOGAA8X6c",
        "outputId": "65c35cf8-2481-4918-999e-5ac4fc786099"
      },
      "execution_count": 7,
      "outputs": [
        {
          "output_type": "stream",
          "name": "stdout",
          "text": [
            "MSE do TREINO (Reg Linear):  2.8392326607544245\n",
            "MSE do TESTE (Reg Linear):  2.54162403622915\n",
            "MAE do TREINO (Reg Linear):  1.2836301223784408\n",
            "MAE do TESTE (Reg Linear):  1.1594875061090584\n",
            "R² do TREINO (Reg Linear):  0.8919647339302077\n",
            "R² do TESTE (Reg Linear):  0.9091484341849798\n"
          ]
        }
      ]
    },
    {
      "cell_type": "code",
      "source": [
        "# Treinando uma RNA padrão e realizando predições\n",
        "modelo_otimizado = MLPRegressor(hidden_layer_sizes=(10, 5,),\n",
        "            max_iter=1000,\n",
        "            solver=\"lbfgs\",\n",
        "            learning_rate=\"adaptive\",\n",
        "            random_state=93)\n",
        "modelo_otimizado.fit(X_train_scaled, y_train)\n",
        "y_pred_rn = modelo_otimizado.predict(X_test_scaled)\n",
        "\n",
        "# Metricas para RNA otimizada\n",
        "metricas(X_train_scaled, y_train, y_test, y_pred_rn, modelo_otimizado, \"RN OTIMIZADO\")"
      ],
      "metadata": {
        "colab": {
          "base_uri": "https://localhost:8080/"
        },
        "id": "Hn9p8mrl8XyN",
        "outputId": "068aada5-2aa2-4483-eb7b-a13e7bf1f494"
      },
      "execution_count": 9,
      "outputs": [
        {
          "output_type": "stream",
          "name": "stdout",
          "text": [
            "MSE do TREINO (RN OTIMIZADO):  0.7223982401992917\n",
            "MSE do TESTE (RN OTIMIZADO):  4.93884563479431\n",
            "MAE do TREINO (RN OTIMIZADO):  0.5615115916845373\n",
            "MAE do TESTE (RN OTIMIZADO):  1.6007727270138643\n",
            "R² do TREINO (RN OTIMIZADO):  0.9725121202052027\n",
            "R² do TESTE (RN OTIMIZADO):  0.8234586025140637\n"
          ]
        }
      ]
    },
    {
      "cell_type": "code",
      "source": [
        "# Treinando uma RNA padrão e realizando predições\n",
        "modelo_otimizado = MLPRegressor(hidden_layer_sizes=(10, 5,),\n",
        "            max_iter=1000,\n",
        "            solver=\"lbfgs\",\n",
        "            learning_rate=\"adaptive\",\n",
        "            random_state=3)\n",
        "modelo_otimizado.fit(X_train_scaled, y_train)\n",
        "y_pred_rn = modelo_otimizado.predict(X_test_scaled)\n",
        "\n",
        "# Metricas para RNA otimizada\n",
        "metricas(X_train_scaled, y_train, y_test, y_pred_rn, modelo_otimizado, \"RN OTIMIZADO\")"
      ],
      "metadata": {
        "colab": {
          "base_uri": "https://localhost:8080/"
        },
        "id": "wIFANs9izPRN",
        "outputId": "d4a6b1cc-d33b-4f3c-d4aa-75663ad05276"
      },
      "execution_count": 10,
      "outputs": [
        {
          "output_type": "stream",
          "name": "stdout",
          "text": [
            "MSE do TREINO (RN OTIMIZADO):  0.7093816540612269\n",
            "MSE do TESTE (RN OTIMIZADO):  4.145685663426665\n",
            "MAE do TREINO (RN OTIMIZADO):  0.6242040023304216\n",
            "MAE do TESTE (RN OTIMIZADO):  1.5046654466233291\n",
            "R² do TREINO (RN OTIMIZADO):  0.9730074126009912\n",
            "R² do TESTE (RN OTIMIZADO):  0.8518104847410896\n"
          ]
        }
      ]
    }
  ]
}